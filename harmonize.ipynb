{
 "cells": [
  {
   "cell_type": "code",
   "execution_count": 1,
   "id": "423d9b24-f4ef-48f0-8689-ef5940a08aff",
   "metadata": {
    "scrolled": true
   },
   "outputs": [
    {
     "name": "stdout",
     "output_type": "stream",
     "text": [
      "Requirement already satisfied: librosa in /Users/250003295/.venv/lib/python3.9/site-packages (0.10.2.post1)\n",
      "Requirement already satisfied: midiutil in /Users/250003295/.venv/lib/python3.9/site-packages (1.2.1)\n",
      "Requirement already satisfied: pydub in /Users/250003295/.venv/lib/python3.9/site-packages (0.25.1)\n",
      "Requirement already satisfied: moviepy in /Users/250003295/.venv/lib/python3.9/site-packages (1.0.3)\n",
      "Requirement already satisfied: mido in /Users/250003295/.venv/lib/python3.9/site-packages (1.3.2)\n",
      "Requirement already satisfied: pyFluidSynth in /Users/250003295/.venv/lib/python3.9/site-packages (1.3.3)\n",
      "Requirement already satisfied: audioread>=2.1.9 in /Users/250003295/.venv/lib/python3.9/site-packages (from librosa) (3.0.1)\n",
      "Requirement already satisfied: numpy!=1.22.0,!=1.22.1,!=1.22.2,>=1.20.3 in /Users/250003295/.venv/lib/python3.9/site-packages (from librosa) (1.26.4)\n",
      "Requirement already satisfied: scipy>=1.2.0 in /Users/250003295/.venv/lib/python3.9/site-packages (from librosa) (1.13.0)\n",
      "Requirement already satisfied: scikit-learn>=0.20.0 in /Users/250003295/.venv/lib/python3.9/site-packages (from librosa) (1.5.1)\n",
      "Requirement already satisfied: joblib>=0.14 in /Users/250003295/.venv/lib/python3.9/site-packages (from librosa) (1.4.2)\n",
      "Requirement already satisfied: decorator>=4.3.0 in /Users/250003295/.venv/lib/python3.9/site-packages (from librosa) (4.4.2)\n",
      "Requirement already satisfied: numba>=0.51.0 in /Users/250003295/.venv/lib/python3.9/site-packages (from librosa) (0.60.0)\n",
      "Requirement already satisfied: soundfile>=0.12.1 in /Users/250003295/.venv/lib/python3.9/site-packages (from librosa) (0.12.1)\n",
      "Requirement already satisfied: pooch>=1.1 in /Users/250003295/.venv/lib/python3.9/site-packages (from librosa) (1.8.2)\n",
      "Requirement already satisfied: soxr>=0.3.2 in /Users/250003295/.venv/lib/python3.9/site-packages (from librosa) (0.5.0.post1)\n",
      "Requirement already satisfied: typing-extensions>=4.1.1 in /Users/250003295/.venv/lib/python3.9/site-packages (from librosa) (4.11.0)\n",
      "Requirement already satisfied: lazy-loader>=0.1 in /Users/250003295/.venv/lib/python3.9/site-packages (from librosa) (0.4)\n",
      "Requirement already satisfied: msgpack>=1.0 in /Users/250003295/.venv/lib/python3.9/site-packages (from librosa) (1.1.0)\n",
      "Requirement already satisfied: tqdm<5.0,>=4.11.2 in /Users/250003295/.venv/lib/python3.9/site-packages (from moviepy) (4.66.4)\n",
      "Requirement already satisfied: requests<3.0,>=2.8.1 in /Users/250003295/.venv/lib/python3.9/site-packages (from moviepy) (2.31.0)\n",
      "Requirement already satisfied: proglog<=1.0.0 in /Users/250003295/.venv/lib/python3.9/site-packages (from moviepy) (0.1.10)\n",
      "Requirement already satisfied: imageio<3.0,>=2.5 in /Users/250003295/.venv/lib/python3.9/site-packages (from moviepy) (2.35.1)\n",
      "Requirement already satisfied: imageio-ffmpeg>=0.2.0 in /Users/250003295/.venv/lib/python3.9/site-packages (from moviepy) (0.5.1)\n",
      "Requirement already satisfied: packaging~=23.1 in /Users/250003295/.venv/lib/python3.9/site-packages (from mido) (23.2)\n",
      "Requirement already satisfied: pillow>=8.3.2 in /Users/250003295/.venv/lib/python3.9/site-packages (from imageio<3.0,>=2.5->moviepy) (10.3.0)\n",
      "Requirement already satisfied: setuptools in /Users/250003295/.venv/lib/python3.9/site-packages (from imageio-ffmpeg>=0.2.0->moviepy) (58.0.4)\n",
      "Requirement already satisfied: llvmlite<0.44,>=0.43.0dev0 in /Users/250003295/.venv/lib/python3.9/site-packages (from numba>=0.51.0->librosa) (0.43.0)\n",
      "Requirement already satisfied: platformdirs>=2.5.0 in /Users/250003295/.venv/lib/python3.9/site-packages (from pooch>=1.1->librosa) (4.2.1)\n",
      "Requirement already satisfied: charset-normalizer<4,>=2 in /Users/250003295/.venv/lib/python3.9/site-packages (from requests<3.0,>=2.8.1->moviepy) (3.3.2)\n",
      "Requirement already satisfied: idna<4,>=2.5 in /Users/250003295/.venv/lib/python3.9/site-packages (from requests<3.0,>=2.8.1->moviepy) (3.7)\n",
      "Requirement already satisfied: urllib3<3,>=1.21.1 in /Users/250003295/.venv/lib/python3.9/site-packages (from requests<3.0,>=2.8.1->moviepy) (1.26.6)\n",
      "Requirement already satisfied: certifi>=2017.4.17 in /Users/250003295/.venv/lib/python3.9/site-packages (from requests<3.0,>=2.8.1->moviepy) (2024.2.2)\n",
      "Requirement already satisfied: threadpoolctl>=3.1.0 in /Users/250003295/.venv/lib/python3.9/site-packages (from scikit-learn>=0.20.0->librosa) (3.5.0)\n",
      "Requirement already satisfied: cffi>=1.0 in /Users/250003295/.venv/lib/python3.9/site-packages (from soundfile>=0.12.1->librosa) (1.16.0)\n",
      "Requirement already satisfied: pycparser in /Users/250003295/.venv/lib/python3.9/site-packages (from cffi>=1.0->soundfile>=0.12.1->librosa) (2.22)\n"
     ]
    }
   ],
   "source": [
    "!pip install librosa midiutil pydub moviepy mido pyFluidSynth"
   ]
  },
  {
   "cell_type": "code",
   "execution_count": 4,
   "id": "777dcf1e-9a5a-4c6a-819b-c665427ca9d7",
   "metadata": {},
   "outputs": [
    {
     "name": "stderr",
     "output_type": "stream",
     "text": [
      "fluidsynth: warning: Preset 'Melo Tom 2': Some invalid generators were discarded\n"
     ]
    }
   ],
   "source": [
    "import fluidsynth\n",
    "import mido\n",
    "import librosa\n",
    "import numpy as np\n",
    "from midiutil import MIDIFile\n",
    "from pydub import AudioSegment\n",
    "from pydub.playback import play\n",
    "from moviepy.editor import VideoFileClip\n",
    "\n",
    "# Function to map frequencies to piano notes\n",
    "def freq_to_midi(freq):\n",
    "    if freq <= 0:\n",
    "        return None\n",
    "    # Convert frequency to MIDI note (A440 is MIDI note 69)\n",
    "    return int(round(69 + 12 * np.log2(freq / 440.0)))\n",
    "\n",
    "# Load the audio file and extract pitches\n",
    "def extract_pitches(audio_file):\n",
    "    # Load audio\n",
    "    y, sr = librosa.load(audio_file)\n",
    "\n",
    "    # Use librosa's pitch detection algorithm\n",
    "    pitches, magnitudes = librosa.core.piptrack(y=y, sr=sr)\n",
    "\n",
    "    # Extract the strongest pitches\n",
    "    extracted_pitches = []\n",
    "    for t in range(pitches.shape[1]):\n",
    "        index = magnitudes[:, t].argmax()\n",
    "        pitch = pitches[index, t]\n",
    "        if pitch > 0:  # Only consider positive pitches\n",
    "            extracted_pitches.append(pitch)\n",
    "    \n",
    "    return extracted_pitches\n",
    "\n",
    "# Create a MIDI file from the extracted pitches\n",
    "def create_midi_from_pitches(pitches, output_file=\"output.mid\"):\n",
    "    # Create a MIDI track\n",
    "    midi = MIDIFile(1)  # One track\n",
    "    midi.addTempo(0, 0, 120)  # Track 0, Time 0, Tempo 120\n",
    "\n",
    "    time = 0  # Start time\n",
    "    for pitch in pitches:\n",
    "        midi_note = freq_to_midi(pitch)\n",
    "        if midi_note:  # Ignore invalid frequencies\n",
    "            midi.addNote(0, 0, midi_note, time, 1, 100)  # Channel 0, Pitch, Duration, Volume\n",
    "            time += 1  # Move to the next time slot\n",
    "\n",
    "    # Write the MIDI file to disk\n",
    "    with open(output_file, \"wb\") as f:\n",
    "        midi.writeFile(f)\n",
    "\n",
    "def play_midi(midi_file, soundfont_file=\"soundfonts/CT2MGM.SF2\"):\n",
    "    \"\"\"Plays a MIDI file using FluidSynth.\"\"\"\n",
    "\n",
    "    # Initialize FluidSynth\n",
    "    fs = fluidsynth.Synth()\n",
    "    fs.start()\n",
    "\n",
    "    # Load the soundfont\n",
    "    sfid = fs.sfload(soundfont_file)\n",
    "    fs.program_select(0, sfid, 0, 0)  # Channel 0, bank 0, preset 0\n",
    "\n",
    "    # Open the MIDI file\n",
    "    mid = mido.MidiFile(midi_file)\n",
    "\n",
    "    # Play the MIDI file\n",
    "    for msg in mid.play():\n",
    "        if msg.type == 'note_on':\n",
    "            fs.noteon(msg.channel, msg.note, msg.velocity)\n",
    "        elif msg.type == 'note_off':\n",
    "            fs.noteoff(msg.channel, msg.note)\n",
    "\n",
    "    # Cleanup\n",
    "    fs.delete()\n",
    "\n",
    "\n",
    "# Main execution\n",
    "#video = VideoFileClip(\"/Users/250003295/Downloads/CareCompanionQ3demo.mp4\")\n",
    "#video.audio.subclip(0, 10).write_audiofile('input_audio.wav')\n",
    "audio_file = \"input_audio.wav\"  # Replace with your input file path\n",
    "pitches = extract_pitches(audio_file)\n",
    "create_midi_from_pitches(pitches)\n",
    "play_midi(\"output.mid\")"
   ]
  },
  {
   "cell_type": "code",
   "execution_count": 5,
   "id": "600597db-56d6-4cd9-a5af-8e7ed3054353",
   "metadata": {},
   "outputs": [
    {
     "name": "stderr",
     "output_type": "stream",
     "text": [
      "fluidsynth: error: fluid_is_soundfont(): fopen() failed: 'File does not exist.'\n",
      "Parameter '/Users/250003295/.fluidsynth/default_sound_font.sf2' not a SoundFont or MIDI file or error occurred identifying it.\n",
      "fluidsynth: error: fluid_sfloader_load(): Failed to open '/opt/homebrew/Cellar/fluid-synth/2.3.6/share/soundfonts/default.sf2': File does not exist.\n",
      "fluidsynth: error: Unable to open file '/opt/homebrew/Cellar/fluid-synth/2.3.6/share/soundfonts/default.sf2'\n",
      "fluidsynth: error: Failed to load SoundFont \"/opt/homebrew/Cellar/fluid-synth/2.3.6/share/soundfonts/default.sf2\"\n"
     ]
    },
    {
     "name": "stdout",
     "output_type": "stream",
     "text": [
      "FluidSynth runtime version 2.3.6\n",
      "Copyright (C) 2000-2024 Peter Hanappe and others.\n",
      "Distributed under the LGPL license.\n",
      "SoundFont(R) is a registered trademark of Creative Technology Ltd.\n",
      "\n",
      "Rendering audio to file 'output.wav'..\n"
     ]
    }
   ],
   "source": [
    "from midi2audio import FluidSynth\n",
    "\n",
    "# Initialize FluidSynth with a soundfont (optional)\n",
    "fs = FluidSynth() \n",
    "\n",
    "# Convert MIDI to WAV\n",
    "fs.midi_to_audio('output.mid', 'output.wav') "
   ]
  },
  {
   "cell_type": "code",
   "execution_count": null,
   "id": "ac16a795-b516-44f6-ad08-d1bddbe717a2",
   "metadata": {},
   "outputs": [],
   "source": []
  }
 ],
 "metadata": {
  "kernelspec": {
   "display_name": "Python 3 (ipykernel)",
   "language": "python",
   "name": "python3"
  },
  "language_info": {
   "codemirror_mode": {
    "name": "ipython",
    "version": 3
   },
   "file_extension": ".py",
   "mimetype": "text/x-python",
   "name": "python",
   "nbconvert_exporter": "python",
   "pygments_lexer": "ipython3",
   "version": "3.9.6"
  }
 },
 "nbformat": 4,
 "nbformat_minor": 5
}
