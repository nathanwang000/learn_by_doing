{
 "cells": [
  {
   "cell_type": "markdown",
   "id": "dac0c21e-a7f8-44cf-9e37-fca13835e06d",
   "metadata": {},
   "source": [
    "# Simple compiler using RTN\n",
    "\n",
    "This is not from the elements from computing book, but follow similar spirit.\n",
    "\n",
    "## Syntax analysis\n",
    "\n",
    "high level code -> tokenizer -> parser -> structured code\n",
    "\n",
    "## Code generation\n",
    "\n",
    "repurpose parser to compute semantic information through the semantic stack"
   ]
  },
  {
   "cell_type": "code",
   "execution_count": 1,
   "id": "c62234ee-e8fb-46fb-8665-c297e86cac2b",
   "metadata": {},
   "outputs": [
    {
     "name": "stdout",
     "output_type": "stream",
     "text": [
      "{RTN_UNIT(s=' does a fox say', r=('what',), n='')}\n"
     ]
    }
   ],
   "source": [
    "from lib.rtn import C, run\n",
    "\n",
    "a = C('what')\n",
    "print(run(a, \"what does a fox say\"))"
   ]
  },
  {
   "cell_type": "code",
   "execution_count": null,
   "id": "acbd30a5-2f46-4090-a19b-efdca33e1489",
   "metadata": {},
   "outputs": [],
   "source": []
  }
 ],
 "metadata": {
  "kernelspec": {
   "display_name": "Python 3 (ipykernel)",
   "language": "python",
   "name": "python3"
  },
  "language_info": {
   "codemirror_mode": {
    "name": "ipython",
    "version": 3
   },
   "file_extension": ".py",
   "mimetype": "text/x-python",
   "name": "python",
   "nbconvert_exporter": "python",
   "pygments_lexer": "ipython3",
   "version": "3.9.6"
  }
 },
 "nbformat": 4,
 "nbformat_minor": 5
}
