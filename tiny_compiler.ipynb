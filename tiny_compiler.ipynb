{
 "cells": [
  {
   "cell_type": "markdown",
   "id": "dac0c21e-a7f8-44cf-9e37-fca13835e06d",
   "metadata": {},
   "source": [
    "# Simple compiler using RTN\n",
    "\n",
    "This is not from the elements from computing book, but follow similar spirit.\n",
    "\n",
    "## Syntax analysis\n",
    "\n",
    "high level code -> tokenizer -> parser -> structured code\n",
    "\n",
    "## Code generation\n",
    "\n",
    "repurpose parser to compute semantic information through the semantic stack"
   ]
  },
  {
   "cell_type": "code",
   "execution_count": 3,
   "id": "c62234ee-e8fb-46fb-8665-c297e86cac2b",
   "metadata": {},
   "outputs": [
    {
     "data": {
      "text/plain": [
       "{RTN_UNIT(s=' a fox say', r=('what does',), n='')}"
      ]
     },
     "execution_count": 3,
     "metadata": {},
     "output_type": "execute_result"
    }
   ],
   "source": [
    "from lib.rtn import C, run, addSem\n",
    "\n",
    "run(\n",
    "    addSem(\n",
    "        C('what') * C(' does'), \n",
    "        lambda r: r[:-2] + (r[-2] + r[-1],)\n",
    "    ), \n",
    "    \"what does a fox say\"\n",
    ")"
   ]
  },
  {
   "cell_type": "code",
   "execution_count": 4,
   "id": "acbd30a5-2f46-4090-a19b-efdca33e1489",
   "metadata": {},
   "outputs": [
    {
     "data": {
      "text/plain": [
       "set()"
      ]
     },
     "execution_count": 4,
     "metadata": {},
     "output_type": "execute_result"
    }
   ],
   "source": [
    "run(\n",
    "    addSem(\n",
    "        C('what') * C(' does'), \n",
    "        lambda r: r[:-2] + (r[-2] + r[-1],)\n",
    "    ), \n",
    "    \"if a == b: return 1 else 2\"\n",
    ")"
   ]
  },
  {
   "cell_type": "code",
   "execution_count": null,
   "id": "7412a920-750c-4241-b654-f85c78b73d76",
   "metadata": {},
   "outputs": [],
   "source": []
  }
 ],
 "metadata": {
  "kernelspec": {
   "display_name": "Python 3 (ipykernel)",
   "language": "python",
   "name": "python3"
  },
  "language_info": {
   "codemirror_mode": {
    "name": "ipython",
    "version": 3
   },
   "file_extension": ".py",
   "mimetype": "text/x-python",
   "name": "python",
   "nbconvert_exporter": "python",
   "pygments_lexer": "ipython3",
   "version": "3.9.6"
  }
 },
 "nbformat": 4,
 "nbformat_minor": 5
}
